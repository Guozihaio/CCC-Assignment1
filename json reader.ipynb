{
 "cells": [
  {
   "cell_type": "markdown",
   "metadata": {},
   "source": [
    "# Data processing"
   ]
  },
  {
   "cell_type": "code",
   "execution_count": 231,
   "metadata": {},
   "outputs": [],
   "source": [
    "import json\n",
    "import pandas as pd\n",
    "import copy\n",
    "from collections import Counter\n",
    "#from mpi4py import MPI"
   ]
  },
  {
   "cell_type": "code",
   "execution_count": 232,
   "metadata": {
    "scrolled": true
   },
   "outputs": [],
   "source": [
    "with open(\"smallTwitter.json\", encoding = 'utf-8') as small_f:\n",
    "    small_set = pd.read_json(small_f)\n",
    "with open(\"tinyTwitter.json\", encoding = 'utf-8') as tiny_f:\n",
    "    tiny_set = pd.read_json(tiny_f)\n",
    "with open(\"sydGrid.json\", 'r', encoding = 'utf-8') as sydgrid_f:\n",
    "    syd_grid = json.load(sydgrid_f)\n",
    "    #grid_set = pd.read_json(sydgrid_f)\n",
    "grid_feature = syd_grid[\"features\"]"
   ]
  },
  {
   "cell_type": "code",
   "execution_count": 233,
   "metadata": {
    "scrolled": false
   },
   "outputs": [
    {
     "data": {
      "text/html": [
       "<div>\n",
       "<style scoped>\n",
       "    .dataframe tbody tr th:only-of-type {\n",
       "        vertical-align: middle;\n",
       "    }\n",
       "\n",
       "    .dataframe tbody tr th {\n",
       "        vertical-align: top;\n",
       "    }\n",
       "\n",
       "    .dataframe thead th {\n",
       "        text-align: right;\n",
       "    }\n",
       "</style>\n",
       "<table border=\"1\" class=\"dataframe\">\n",
       "  <thead>\n",
       "    <tr style=\"text-align: right;\">\n",
       "      <th></th>\n",
       "      <th>total_rows</th>\n",
       "      <th>rows</th>\n",
       "    </tr>\n",
       "  </thead>\n",
       "  <tbody>\n",
       "    <tr>\n",
       "      <th>0</th>\n",
       "      <td>5000</td>\n",
       "      <td>{'id': '1212161512334336000', 'key': ['sydney'...</td>\n",
       "    </tr>\n",
       "    <tr>\n",
       "      <th>1</th>\n",
       "      <td>5000</td>\n",
       "      <td>{'id': '1212161512770437121', 'key': ['sydney'...</td>\n",
       "    </tr>\n",
       "    <tr>\n",
       "      <th>2</th>\n",
       "      <td>5000</td>\n",
       "      <td>{'id': '1212161513361793024', 'key': ['sydney'...</td>\n",
       "    </tr>\n",
       "    <tr>\n",
       "      <th>3</th>\n",
       "      <td>5000</td>\n",
       "      <td>{'id': '1212161513580105733', 'key': ['sydney'...</td>\n",
       "    </tr>\n",
       "    <tr>\n",
       "      <th>4</th>\n",
       "      <td>5000</td>\n",
       "      <td>{'id': '1212161514112770048', 'key': ['sydney'...</td>\n",
       "    </tr>\n",
       "    <tr>\n",
       "      <th>...</th>\n",
       "      <td>...</td>\n",
       "      <td>...</td>\n",
       "    </tr>\n",
       "    <tr>\n",
       "      <th>4994</th>\n",
       "      <td>5000</td>\n",
       "      <td>{'id': '1212190058188431360', 'key': ['sydney'...</td>\n",
       "    </tr>\n",
       "    <tr>\n",
       "      <th>4995</th>\n",
       "      <td>5000</td>\n",
       "      <td>{'id': '1212190058767253504', 'key': ['sydney'...</td>\n",
       "    </tr>\n",
       "    <tr>\n",
       "      <th>4996</th>\n",
       "      <td>5000</td>\n",
       "      <td>{'id': '1212190059736096769', 'key': ['sydney'...</td>\n",
       "    </tr>\n",
       "    <tr>\n",
       "      <th>4997</th>\n",
       "      <td>5000</td>\n",
       "      <td>{'id': '1212190061770334208', 'key': ['sydney'...</td>\n",
       "    </tr>\n",
       "    <tr>\n",
       "      <th>4998</th>\n",
       "      <td>5000</td>\n",
       "      <td>{'id': '1212190061791334400', 'key': ['sydney'...</td>\n",
       "    </tr>\n",
       "  </tbody>\n",
       "</table>\n",
       "<p>4999 rows × 2 columns</p>\n",
       "</div>"
      ],
      "text/plain": [
       "      total_rows                                               rows\n",
       "0           5000  {'id': '1212161512334336000', 'key': ['sydney'...\n",
       "1           5000  {'id': '1212161512770437121', 'key': ['sydney'...\n",
       "2           5000  {'id': '1212161513361793024', 'key': ['sydney'...\n",
       "3           5000  {'id': '1212161513580105733', 'key': ['sydney'...\n",
       "4           5000  {'id': '1212161514112770048', 'key': ['sydney'...\n",
       "...          ...                                                ...\n",
       "4994        5000  {'id': '1212190058188431360', 'key': ['sydney'...\n",
       "4995        5000  {'id': '1212190058767253504', 'key': ['sydney'...\n",
       "4996        5000  {'id': '1212190059736096769', 'key': ['sydney'...\n",
       "4997        5000  {'id': '1212190061770334208', 'key': ['sydney'...\n",
       "4998        5000  {'id': '1212190061791334400', 'key': ['sydney'...\n",
       "\n",
       "[4999 rows x 2 columns]"
      ]
     },
     "execution_count": 233,
     "metadata": {},
     "output_type": "execute_result"
    }
   ],
   "source": [
    "small_set"
   ]
  },
  {
   "cell_type": "code",
   "execution_count": 235,
   "metadata": {},
   "outputs": [
    {
     "data": {
      "text/plain": [
       "[{'type': 'Feature',\n",
       "  'properties': {'id': 23},\n",
       "  'geometry': {'type': 'Polygon',\n",
       "   'coordinates': [[[151.2155, -33.85412],\n",
       "     [151.2155, -34.00412],\n",
       "     [151.3655, -34.00412],\n",
       "     [151.3655, -33.85412],\n",
       "     [151.2155, -33.85412]]]}},\n",
       " {'type': 'Feature',\n",
       "  'properties': {'id': 22},\n",
       "  'geometry': {'type': 'Polygon',\n",
       "   'coordinates': [[[151.2155, -33.70412],\n",
       "     [151.2155, -33.85412],\n",
       "     [151.3655, -33.85412],\n",
       "     [151.3655, -33.70412],\n",
       "     [151.2155, -33.70412]]]}},\n",
       " {'type': 'Feature',\n",
       "  'properties': {'id': 21},\n",
       "  'geometry': {'type': 'Polygon',\n",
       "   'coordinates': [[[151.2155, -33.55412],\n",
       "     [151.2155, -33.70412],\n",
       "     [151.3655, -33.70412],\n",
       "     [151.3655, -33.55412],\n",
       "     [151.2155, -33.55412]]]}},\n",
       " {'type': 'Feature',\n",
       "  'properties': {'id': 20},\n",
       "  'geometry': {'type': 'Polygon',\n",
       "   'coordinates': [[[151.0655, -34.00412],\n",
       "     [151.0655, -34.15412],\n",
       "     [151.2155, -34.15412],\n",
       "     [151.2155, -34.00412],\n",
       "     [151.0655, -34.00412]]]}},\n",
       " {'type': 'Feature',\n",
       "  'properties': {'id': 19},\n",
       "  'geometry': {'type': 'Polygon',\n",
       "   'coordinates': [[[151.0655, -33.85412],\n",
       "     [151.0655, -34.00412],\n",
       "     [151.2155, -34.00412],\n",
       "     [151.2155, -33.85412],\n",
       "     [151.0655, -33.85412]]]}},\n",
       " {'type': 'Feature',\n",
       "  'properties': {'id': 18},\n",
       "  'geometry': {'type': 'Polygon',\n",
       "   'coordinates': [[[151.0655, -33.70412],\n",
       "     [151.0655, -33.85412],\n",
       "     [151.2155, -33.85412],\n",
       "     [151.2155, -33.70412],\n",
       "     [151.0655, -33.70412]]]}},\n",
       " {'type': 'Feature',\n",
       "  'properties': {'id': 17},\n",
       "  'geometry': {'type': 'Polygon',\n",
       "   'coordinates': [[[151.0655, -33.55412],\n",
       "     [151.0655, -33.70412],\n",
       "     [151.2155, -33.70412],\n",
       "     [151.2155, -33.55412],\n",
       "     [151.0655, -33.55412]]]}},\n",
       " {'type': 'Feature',\n",
       "  'properties': {'id': 16},\n",
       "  'geometry': {'type': 'Polygon',\n",
       "   'coordinates': [[[150.9155, -34.00412],\n",
       "     [150.9155, -34.15412],\n",
       "     [151.0655, -34.15412],\n",
       "     [151.0655, -34.00412],\n",
       "     [150.9155, -34.00412]]]}},\n",
       " {'type': 'Feature',\n",
       "  'properties': {'id': 15},\n",
       "  'geometry': {'type': 'Polygon',\n",
       "   'coordinates': [[[150.9155, -33.85412],\n",
       "     [150.9155, -34.00412],\n",
       "     [151.0655, -34.00412],\n",
       "     [151.0655, -33.85412],\n",
       "     [150.9155, -33.85412]]]}},\n",
       " {'type': 'Feature',\n",
       "  'properties': {'id': 14},\n",
       "  'geometry': {'type': 'Polygon',\n",
       "   'coordinates': [[[150.9155, -33.70412],\n",
       "     [150.9155, -33.85412],\n",
       "     [151.0655, -33.85412],\n",
       "     [151.0655, -33.70412],\n",
       "     [150.9155, -33.70412]]]}},\n",
       " {'type': 'Feature',\n",
       "  'properties': {'id': 13},\n",
       "  'geometry': {'type': 'Polygon',\n",
       "   'coordinates': [[[150.9155, -33.55412],\n",
       "     [150.9155, -33.70412],\n",
       "     [151.0655, -33.70412],\n",
       "     [151.0655, -33.55412],\n",
       "     [150.9155, -33.55412]]]}},\n",
       " {'type': 'Feature',\n",
       "  'properties': {'id': 12},\n",
       "  'geometry': {'type': 'Polygon',\n",
       "   'coordinates': [[[150.7655, -34.00412],\n",
       "     [150.7655, -34.15412],\n",
       "     [150.9155, -34.15412],\n",
       "     [150.9155, -34.00412],\n",
       "     [150.7655, -34.00412]]]}},\n",
       " {'type': 'Feature',\n",
       "  'properties': {'id': 11},\n",
       "  'geometry': {'type': 'Polygon',\n",
       "   'coordinates': [[[150.7655, -33.85412],\n",
       "     [150.7655, -34.00412],\n",
       "     [150.9155, -34.00412],\n",
       "     [150.9155, -33.85412],\n",
       "     [150.7655, -33.85412]]]}},\n",
       " {'type': 'Feature',\n",
       "  'properties': {'id': 10},\n",
       "  'geometry': {'type': 'Polygon',\n",
       "   'coordinates': [[[150.7655, -33.70412],\n",
       "     [150.7655, -33.85412],\n",
       "     [150.9155, -33.85412],\n",
       "     [150.9155, -33.70412],\n",
       "     [150.7655, -33.70412]]]}},\n",
       " {'type': 'Feature',\n",
       "  'properties': {'id': 9},\n",
       "  'geometry': {'type': 'Polygon',\n",
       "   'coordinates': [[[150.7655, -33.55412],\n",
       "     [150.7655, -33.70412],\n",
       "     [150.9155, -33.70412],\n",
       "     [150.9155, -33.55412],\n",
       "     [150.7655, -33.55412]]]}},\n",
       " {'type': 'Feature',\n",
       "  'properties': {'id': 24},\n",
       "  'geometry': {'type': 'Polygon',\n",
       "   'coordinates': [[[151.2155, -34.00412],\n",
       "     [151.2155, -34.15412],\n",
       "     [151.3655, -34.15412],\n",
       "     [151.3655, -34.00412],\n",
       "     [151.2155, -34.00412]]]}}]"
      ]
     },
     "execution_count": 235,
     "metadata": {},
     "output_type": "execute_result"
    }
   ],
   "source": [
    "grid_feature"
   ]
  },
  {
   "cell_type": "markdown",
   "metadata": {},
   "source": [
    "<b> A -----> B </b>\n",
    "\n",
    "<b> B -----> C </b>\n",
    "\n",
    "<b> C -----> D </b>\n",
    "\n",
    "<b> D -----> A\n"
   ]
  },
  {
   "cell_type": "code",
   "execution_count": 237,
   "metadata": {},
   "outputs": [
    {
     "data": {
      "text/plain": [
       "[[151.2155, -34.00412],\n",
       " [151.2155, -34.15412],\n",
       " [151.3655, -34.15412],\n",
       " [151.3655, -34.00412],\n",
       " [151.2155, -34.00412]]"
      ]
     },
     "execution_count": 237,
     "metadata": {},
     "output_type": "execute_result"
    }
   ],
   "source": [
    "D4 = copy.deepcopy(grid_feature[-1][\"geometry\"][\"coordinates\"][0])\n",
    "D4"
   ]
  },
  {
   "cell_type": "code",
   "execution_count": 238,
   "metadata": {},
   "outputs": [
    {
     "data": {
      "text/plain": [
       "[[151.2155, -33.85412],\n",
       " [151.2155, -34.00412],\n",
       " [151.3655, -34.00412],\n",
       " [151.3655, -33.85412],\n",
       " [151.2155, -33.85412]]"
      ]
     },
     "execution_count": 238,
     "metadata": {},
     "output_type": "execute_result"
    }
   ],
   "source": [
    "C4 = copy.deepcopy(grid_feature[0][\"geometry\"][\"coordinates\"][0])\n",
    "C4"
   ]
  },
  {
   "cell_type": "code",
   "execution_count": 239,
   "metadata": {},
   "outputs": [
    {
     "data": {
      "text/plain": [
       "[[151.2155, -33.70412],\n",
       " [151.2155, -33.85412],\n",
       " [151.3655, -33.85412],\n",
       " [151.3655, -33.70412],\n",
       " [151.2155, -33.70412]]"
      ]
     },
     "execution_count": 239,
     "metadata": {},
     "output_type": "execute_result"
    }
   ],
   "source": [
    "B4 = copy.deepcopy(grid_feature[1][\"geometry\"][\"coordinates\"][0])\n",
    "B4"
   ]
  },
  {
   "cell_type": "code",
   "execution_count": 240,
   "metadata": {},
   "outputs": [
    {
     "data": {
      "text/plain": [
       "[[151.2155, -33.55412],\n",
       " [151.2155, -33.70412],\n",
       " [151.3655, -33.70412],\n",
       " [151.3655, -33.55412],\n",
       " [151.2155, -33.55412]]"
      ]
     },
     "execution_count": 240,
     "metadata": {},
     "output_type": "execute_result"
    }
   ],
   "source": [
    "A4 = copy.deepcopy(grid_feature[2][\"geometry\"][\"coordinates\"][0])\n",
    "A4"
   ]
  },
  {
   "cell_type": "code",
   "execution_count": 241,
   "metadata": {},
   "outputs": [],
   "source": [
    "D3 = copy.deepcopy(grid_feature[3][\"geometry\"][\"coordinates\"][0])\n",
    "C3 = copy.deepcopy(grid_feature[4][\"geometry\"][\"coordinates\"][0])\n",
    "B3 = copy.deepcopy(grid_feature[5][\"geometry\"][\"coordinates\"][0])\n",
    "A3 = copy.deepcopy(grid_feature[6][\"geometry\"][\"coordinates\"][0])\n",
    "D2 = copy.deepcopy(grid_feature[7][\"geometry\"][\"coordinates\"][0])\n",
    "C2 = copy.deepcopy(grid_feature[8][\"geometry\"][\"coordinates\"][0])\n",
    "B2 = copy.deepcopy(grid_feature[9][\"geometry\"][\"coordinates\"][0])\n",
    "A2 = copy.deepcopy(grid_feature[10][\"geometry\"][\"coordinates\"][0])\n",
    "D1 = copy.deepcopy(grid_feature[11][\"geometry\"][\"coordinates\"][0])\n",
    "C1 = copy.deepcopy(grid_feature[12][\"geometry\"][\"coordinates\"][0])\n",
    "B1 = copy.deepcopy(grid_feature[13][\"geometry\"][\"coordinates\"][0])\n",
    "A1 = copy.deepcopy(grid_feature[14][\"geometry\"][\"coordinates\"][0])"
   ]
  },
  {
   "cell_type": "code",
   "execution_count": 243,
   "metadata": {},
   "outputs": [
    {
     "data": {
      "text/plain": [
       "[[151.0655, -34.00412],\n",
       " [151.0655, -34.15412],\n",
       " [151.2155, -34.15412],\n",
       " [151.2155, -34.00412],\n",
       " [151.0655, -34.00412]]"
      ]
     },
     "execution_count": 243,
     "metadata": {},
     "output_type": "execute_result"
    }
   ],
   "source": [
    "D3"
   ]
  },
  {
   "cell_type": "code",
   "execution_count": 244,
   "metadata": {
    "scrolled": true
   },
   "outputs": [
    {
     "data": {
      "text/plain": [
       "[[151.0655, -33.85412],\n",
       " [151.0655, -34.00412],\n",
       " [151.2155, -34.00412],\n",
       " [151.2155, -33.85412],\n",
       " [151.0655, -33.85412]]"
      ]
     },
     "execution_count": 244,
     "metadata": {},
     "output_type": "execute_result"
    }
   ],
   "source": [
    "C3"
   ]
  },
  {
   "cell_type": "code",
   "execution_count": 245,
   "metadata": {
    "scrolled": true
   },
   "outputs": [
    {
     "data": {
      "text/plain": [
       "[[151.0655, -33.70412],\n",
       " [151.0655, -33.85412],\n",
       " [151.2155, -33.85412],\n",
       " [151.2155, -33.70412],\n",
       " [151.0655, -33.70412]]"
      ]
     },
     "execution_count": 245,
     "metadata": {},
     "output_type": "execute_result"
    }
   ],
   "source": [
    "B3"
   ]
  },
  {
   "cell_type": "code",
   "execution_count": 246,
   "metadata": {},
   "outputs": [
    {
     "data": {
      "text/plain": [
       "[[151.0655, -33.55412],\n",
       " [151.0655, -33.70412],\n",
       " [151.2155, -33.70412],\n",
       " [151.2155, -33.55412],\n",
       " [151.0655, -33.55412]]"
      ]
     },
     "execution_count": 246,
     "metadata": {},
     "output_type": "execute_result"
    }
   ],
   "source": [
    "A3"
   ]
  },
  {
   "cell_type": "code",
   "execution_count": 247,
   "metadata": {},
   "outputs": [],
   "source": [
    "AREA = {\"A1\": A1, \"A2\": A2, \"A3\": A3, \"A4\": A4, \n",
    "        \"B1\": B1, \"B2\": B2, \"B3\": B3, \"B4\": B4,\n",
    "        \"C1\": C1, \"C2\": C2, \"C3\": C3, \"C4\": C4,\n",
    "        \"D1\": D1, \"D2\": D2, \"D3\": D3, \"D4\": D4}"
   ]
  },
  {
   "cell_type": "code",
   "execution_count": 250,
   "metadata": {},
   "outputs": [
    {
     "data": {
      "text/plain": [
       "'C3'"
      ]
     },
     "execution_count": 250,
     "metadata": {},
     "output_type": "execute_result"
    }
   ],
   "source": [
    "def in_area(coordinates):\n",
    "    for k,v in AREA.items():\n",
    "        if v[0][0] <= coordinates[0] <= v[2][0] and v[1][1] <= coordinates[1] <= v[0][1]:\n",
    "            return k\n",
    "in_area([151.211, -33.86])"
   ]
  },
  {
   "cell_type": "code",
   "execution_count": 251,
   "metadata": {},
   "outputs": [
    {
     "data": {
      "text/plain": [
       "dict_keys(['id', 'key', 'value', 'doc'])"
      ]
     },
     "execution_count": 251,
     "metadata": {},
     "output_type": "execute_result"
    }
   ],
   "source": [
    "tiny_rows = tiny_set['rows']\n",
    "small_rows = small_set['rows']\n",
    "tiny_rows[0].keys()"
   ]
  },
  {
   "cell_type": "code",
   "execution_count": 252,
   "metadata": {},
   "outputs": [
    {
     "data": {
      "text/plain": [
       "dict_keys(['_id', '_rev', 'created_at', 'id', 'id_str', 'text', 'truncated', 'entities', 'metadata', 'source', 'in_reply_to_status_id', 'in_reply_to_status_id_str', 'in_reply_to_user_id', 'in_reply_to_user_id_str', 'in_reply_to_screen_name', 'user', 'geo', 'coordinates', 'place', 'contributors', 'is_quote_status', 'retweet_count', 'favorite_count', 'favorited', 'retweeted', 'lang', 'location'])"
      ]
     },
     "execution_count": 252,
     "metadata": {},
     "output_type": "execute_result"
    }
   ],
   "source": [
    "tiny_rows[0][\"doc\"].keys()"
   ]
  },
  {
   "cell_type": "code",
   "execution_count": 253,
   "metadata": {},
   "outputs": [],
   "source": [
    "lang_dict = {\"A1\": [], \"A2\": [], \"A3\": [], \"A4\": [], \n",
    "             \"B1\": [], \"B2\": [], \"B3\": [], \"B4\": [],\n",
    "             \"C1\": [], \"C2\": [], \"C3\": [], \"C4\": [],\n",
    "             \"D1\": [], \"D2\": [], \"D3\": [], \"D4\": []}\n",
    "\n",
    "ref_dict = {\"en\": \"English (default)\", \"ar\": \"Arabic\", \"bn\": \"Bengali\", \"cs\": \"Czech\", \"da\": \"Danish\", \"de\": \"German\", \"el\": \"Greek\", \n",
    "            \"es\": \"Spanish\", \"fa\": \"Persian\", \"fi\": \"Finnish\", \"fil\": \"Filipino\", \"fr\": \"French\", \n",
    "            \"he\": \"Hebrew\", \"hi\": \"Hindi\", \"hu\": \"Hungarian\", \"id\": \"Indonesian\", \"it\": \"Italian\", \"ja\":\"Japanese\", \"ko\":\"Korean\", \n",
    "            \"msa\": \"Malay\", \"nl\": \"Dutch\", \"no\": \"Norwegian\", \"pl\": \"Polish\", \"pt\": \"Portuguese\", \n",
    "            \"ro\": \"Romanian\", \"ru\": \"Russian\", \"sv\":\"Swedish\", \"th\":\"Thai\", \"tr\":\"Turkish\", \"uk\":\"Ukrainian\", \"ur\": \"Urdu\",\n",
    "            \"vi\": \"Vietnamese\", \"zh-cn\": \"Chinese\", \"zh-tw\": \"Chinese\"}\n",
    "\n",
    "lang_count = {\"en\": 0, \"ar\": 0, \"bn\": 0, \"cs\": 0, \"da\": 0, \"de\": 0, \"el\": 0, \n",
    "            \"es\": 0, \"fa\": 0, \"fi\": 0, \"fil\": 0, \"fr\": 0, \n",
    "            \"he\": 0, \"hi\": 0, \"hu\": 0, \"id\": 0, \"it\": 0, \"ja\":0, \"ko\":0, \n",
    "            \"msa\": 0, \"nl\": 0, \"no\": 0, \"pl\": 0, \"pt\": 0, \n",
    "            \"ro\": 0, \"ru\": 0, \"sv\":0, \"th\":0, \"tr\":0, \"uk\":0, \"ur\": 0,\n",
    "            \"vi\": 0, \"zh-cn\": 0, \"zh-tw\": 0}"
   ]
  },
  {
   "cell_type": "code",
   "execution_count": 259,
   "metadata": {},
   "outputs": [
    {
     "data": {
      "text/plain": [
       "{'A1': {'en': 999,\n",
       "  'ar': 999,\n",
       "  'bn': 999,\n",
       "  'cs': 999,\n",
       "  'da': 999,\n",
       "  'de': 999,\n",
       "  'el': 999,\n",
       "  'es': 999,\n",
       "  'fa': 999,\n",
       "  'fi': 999,\n",
       "  'fil': 999,\n",
       "  'fr': 999,\n",
       "  'he': 999,\n",
       "  'hi': 999,\n",
       "  'hu': 999,\n",
       "  'id': 999,\n",
       "  'it': 999,\n",
       "  'ja': 999,\n",
       "  'ko': 999,\n",
       "  'msa': 999,\n",
       "  'nl': 999,\n",
       "  'no': 999,\n",
       "  'pl': 999,\n",
       "  'pt': 999,\n",
       "  'ro': 999,\n",
       "  'ru': 999,\n",
       "  'sv': 999,\n",
       "  'th': 999,\n",
       "  'tr': 999,\n",
       "  'uk': 999,\n",
       "  'ur': 999,\n",
       "  'vi': 999,\n",
       "  'zh-cn': 999,\n",
       "  'zh-tw': 999},\n",
       " 'A2': {},\n",
       " 'A3': {},\n",
       " 'A4': {},\n",
       " 'B1': {},\n",
       " 'B2': {},\n",
       " 'B3': {},\n",
       " 'B4': {},\n",
       " 'C1': {},\n",
       " 'C2': {},\n",
       " 'C3': {'en': 2},\n",
       " 'C4': {},\n",
       " 'D1': {},\n",
       " 'D2': {},\n",
       " 'D3': {},\n",
       " 'D4': {}}"
      ]
     },
     "execution_count": 259,
     "metadata": {},
     "output_type": "execute_result"
    }
   ],
   "source": [
    "lang_dict = {\"A1\": [], \"A2\": [], \"A3\": [], \"A4\": [], \n",
    "             \"B1\": [], \"B2\": [], \"B3\": [], \"B4\": [],\n",
    "             \"C1\": [], \"C2\": [], \"C3\": [], \"C4\": [],\n",
    "             \"D1\": [], \"D2\": [], \"D3\": [], \"D4\": []}\n",
    "new_lang_dict = copy.deepcopy(lang_dict)\n",
    "for i in range(len(tiny_set)):\n",
    "    if tiny_rows[i][\"doc\"][\"coordinates\"] != None:\n",
    "        lang_dict[in_area(tiny_rows[i][\"doc\"][\"coordinates\"][\"coordinates\"])].append(tiny_rows[i][\"doc\"][\"metadata\"][\"iso_language_code\"])\n",
    "    for k in lang_count:\n",
    "        lang_dict[\"A1\"].append(k)\n",
    "for k,v in lang_dict.items():\n",
    "    c = Counter(v)\n",
    "    new_lang_dict[k] = dict(c)\n",
    "new_lang_dict"
   ]
  },
  {
   "cell_type": "code",
   "execution_count": 261,
   "metadata": {
    "scrolled": true
   },
   "outputs": [
    {
     "data": {
      "text/plain": [
       "{'A1': {},\n",
       " 'A2': {},\n",
       " 'A3': {},\n",
       " 'A4': {},\n",
       " 'B1': {},\n",
       " 'B2': {'en': 2},\n",
       " 'B3': {'en': 2},\n",
       " 'B4': {},\n",
       " 'C1': {},\n",
       " 'C2': {},\n",
       " 'C3': {'en': 10},\n",
       " 'C4': {'en': 1},\n",
       " 'D1': {},\n",
       " 'D2': {},\n",
       " 'D3': {},\n",
       " 'D4': {}}"
      ]
     },
     "execution_count": 261,
     "metadata": {},
     "output_type": "execute_result"
    }
   ],
   "source": [
    "lang_dict_2 = {\"A1\": [], \"A2\": [], \"A3\": [], \"A4\": [], \n",
    "               \"B1\": [], \"B2\": [], \"B3\": [], \"B4\": [],\n",
    "               \"C1\": [], \"C2\": [], \"C3\": [], \"C4\": [],\n",
    "               \"D1\": [], \"D2\": [], \"D3\": [], \"D4\": []}\n",
    "new_lang_dict2 = copy.deepcopy(lang_dict_2)\n",
    "for i in range(len(small_set)):\n",
    "    if small_rows[i][\"doc\"][\"coordinates\"] != None:\n",
    "        #print(small_rows[i][\"doc\"][\"id\"])\n",
    "        lang_dict_2[in_area(small_rows[i][\"doc\"][\"coordinates\"][\"coordinates\"])].append(small_rows[i][\"doc\"][\"metadata\"][\"iso_language_code\"])\n",
    "    for k,v in lang_dict_2.items():\n",
    "        c1 = Counter(v)\n",
    "        new_lang_dict2[k] = dict(c1)\n",
    "new_lang_dict2"
   ]
  },
  {
   "cell_type": "code",
   "execution_count": 262,
   "metadata": {},
   "outputs": [
    {
     "name": "stdout",
     "output_type": "stream",
     "text": [
      "A1 {'num_lang': 0, 'total_tweets': 0}\n",
      "A2 {'num_lang': 0, 'total_tweets': 0}\n",
      "A3 {'num_lang': 0, 'total_tweets': 0}\n",
      "A4 {'num_lang': 0, 'total_tweets': 0}\n",
      "B1 {'num_lang': 0, 'total_tweets': 0}\n",
      "B2 {'num_lang': 1, 'total_tweets': 2}\n",
      "B3 {'num_lang': 1, 'total_tweets': 2}\n",
      "B4 {'num_lang': 0, 'total_tweets': 0}\n",
      "C1 {'num_lang': 0, 'total_tweets': 0}\n",
      "C2 {'num_lang': 0, 'total_tweets': 0}\n",
      "C3 {'num_lang': 1, 'total_tweets': 10}\n",
      "C4 {'num_lang': 1, 'total_tweets': 1}\n",
      "D1 {'num_lang': 0, 'total_tweets': 0}\n",
      "D2 {'num_lang': 0, 'total_tweets': 0}\n",
      "D3 {'num_lang': 0, 'total_tweets': 0}\n",
      "D4 {'num_lang': 0, 'total_tweets': 0}\n"
     ]
    }
   ],
   "source": [
    "for area, lang_check in new_lang_dict2.items():\n",
    "    out_dict = {\"num_lang\": 0, \"total_tweets\": 0}\n",
    "    for k, v in lang_check.items():\n",
    "        out_dict[\"num_lang\"]+=1\n",
    "        out_dict[\"total_tweets\"]+=v\n",
    "    print(area, out_dict)"
   ]
  },
  {
   "cell_type": "code",
   "execution_count": null,
   "metadata": {},
   "outputs": [],
   "source": [
    "'''\n",
    "out_dict = {, \"total_tweets\": 0}\n",
    "for area, lang_list in lang_dict_2.items():\n",
    "    total_count = 0\n",
    "    for lang in lang_list:\n",
    "        total_count+=1\n",
    "        out_dict[area] = {lang: 0, \"total_tweets\": total_count}\n",
    "        for ref_code, ref_full in ref_dict.items():\n",
    "            if lang == ref_code:\n",
    "                out_dict[area] = {ref_code: }\n",
    "'''"
   ]
  }
 ],
 "metadata": {
  "kernelspec": {
   "display_name": "Python 3",
   "language": "python",
   "name": "python3"
  },
  "language_info": {
   "codemirror_mode": {
    "name": "ipython",
    "version": 3
   },
   "file_extension": ".py",
   "mimetype": "text/x-python",
   "name": "python",
   "nbconvert_exporter": "python",
   "pygments_lexer": "ipython3",
   "version": "3.8.5"
  }
 },
 "nbformat": 4,
 "nbformat_minor": 4
}
